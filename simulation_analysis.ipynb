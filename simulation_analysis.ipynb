{
 "cells": [
  {
   "cell_type": "code",
   "execution_count": 1,
   "metadata": {},
   "outputs": [],
   "source": [
    "import matplotlib.pyplot as plt\n",
    "import warnings\n",
    "import seaborn as sns\n",
    "import pandas as pd\n",
    "import os\n",
    "import shutil"
   ]
  },
  {
   "cell_type": "code",
   "execution_count": 2,
   "metadata": {},
   "outputs": [
    {
     "name": "stdout",
     "output_type": "stream",
     "text": [
      "The directory c:\\Users\\louis\\OneDrive - Georgia Institute of Technology\\GATech\\2024 sem 4 fall\\ISYE 6644\\Project\\pandemic-flu-spread\\pandemic-flu-spread\\analysis_results has been cleared.\n"
     ]
    }
   ],
   "source": [
    "# Get the current working directory (where the notebook is located)\n",
    "current_dir = os.getcwd()\n",
    "# Add path to load results\n",
    "results_dir = os.path.join(current_dir, \"results\")\n",
    "# Add path to save analysis results\n",
    "analysis_results_dir = os.path.join(current_dir, \"analysis_results\")\n",
    "# Check if the directory exists\n",
    "if os.path.exists(analysis_results_dir):\n",
    "    # Iterate over all the files in the directory\n",
    "    for filename in os.listdir(analysis_results_dir):\n",
    "        file_path = os.path.join(analysis_results_dir, filename)\n",
    "        try:\n",
    "            # Check if it is a file and delete it\n",
    "            if os.path.isfile(file_path) or os.path.islink(file_path):\n",
    "                os.unlink(file_path)\n",
    "            # Check if it is a directory and delete it\n",
    "            elif os.path.isdir(file_path):\n",
    "                shutil.rmtree(file_path)\n",
    "        except Exception as e:\n",
    "            print(f\"Failed to delete {file_path}. Reason: {e}\")\n",
    "    print(f\"The directory {analysis_results_dir} has been cleared.\")\n",
    "else:\n",
    "    os.makedirs(analysis_results_dir)\n",
    "    print(f\"The directory {analysis_results_dir} has been created.\")"
   ]
  },
  {
   "cell_type": "code",
   "execution_count": 3,
   "metadata": {},
   "outputs": [],
   "source": [
    "# read the data\n",
    "histogram_results_df = pd.read_excel(os.path.join(results_dir,\"histogram_results.xlsx\"))\n",
    "state_over_time_results_df = pd.read_excel(os.path.join(results_dir,\"state_over_time_results.xlsx\"))"
   ]
  },
  {
   "cell_type": "code",
   "execution_count": 4,
   "metadata": {},
   "outputs": [
    {
     "name": "stdout",
     "output_type": "stream",
     "text": [
      "total_infections_data\n",
      "total_deaths_data\n",
      "peak_infections_data\n",
      "total_days_data\n"
     ]
    }
   ],
   "source": [
    "# for each metric in histogram_results_df['Metric'], create a new variable with the data for that metric\n",
    "metrics = histogram_results_df['Metric'].unique()\n",
    "for metric in metrics:\n",
    "    globals()[f\"{metric}_data\"] = histogram_results_df[histogram_results_df['Metric'] == metric]\n",
    "    print(f\"{metric}_data\")"
   ]
  },
  {
   "cell_type": "code",
   "execution_count": 5,
   "metadata": {},
   "outputs": [],
   "source": [
    "def plot_heatmap(data: pd.DataFrame, infections_rate: float, ax, vmin=None, vmax=None):\n",
    "    \"\"\"\n",
    "    Plots a heatmap for the given data with social_distancing_start_day as the y-axis,\n",
    "    mask_start_day as the x-axis, and Median as the values.\n",
    "\n",
    "    Args:\n",
    "        data (pd.DataFrame): The input data containing 'social_distancing_start_day', 'mask_start_day', and 'Median'.\n",
    "        infection_rate (float): The infection rate to include in the title.\n",
    "        ax (matplotlib.axes.Axes): The axes on which to plot the heatmap.\n",
    "        vmin (float): Minimum value for the color scale.\n",
    "        vmax (float): Maximum value for the color scale.\n",
    "    \"\"\"\n",
    "    # Derive the dataset name from the Metric column\n",
    "    dataset_name = data['Metric'].iloc[0].replace('total_', '').replace('_', ' ').capitalize()\n",
    "\n",
    "    # Pivot the data to create a matrix for the heatmap\n",
    "    heatmap_data = data.pivot_table(\n",
    "        index='social_distancing_start_day',\n",
    "        columns='mask_start_day',\n",
    "        values='Median',\n",
    "        aggfunc='median'\n",
    "    )\n",
    "\n",
    "    # Plot the heatmap\n",
    "    sns.heatmap(heatmap_data, annot=True, fmt=\".1f\", cmap=\"YlGnBu\", cbar=False, ax=ax, vmin=vmin, vmax=vmax)\n",
    "    ax.set_title(f'Median {dataset_name}\\nInfection Rate: {infection_rate}')\n",
    "    ax.set_xlabel('Mask Start Day')\n",
    "    ax.set_ylabel('Social Distancing Start Day')\n",
    "\n"
   ]
  },
  {
   "cell_type": "code",
   "execution_count": 6,
   "metadata": {},
   "outputs": [
    {
     "name": "stdout",
     "output_type": "stream",
     "text": [
      "Metric: total_infections\n",
      "Metric: total_deaths\n",
      "Metric: peak_infections\n",
      "Metric: total_days\n"
     ]
    }
   ],
   "source": [
    "for metric in metrics:\n",
    "    print(f\"Metric: {metric}\")\n",
    "    infection_rates = histogram_results_df['infection_rate'].unique()\n",
    "    num_plots = len(infection_rates)\n",
    "    \n",
    "    # Create a 3-row by 2-column subplot layout\n",
    "    fig, axes = plt.subplots(nrows=3, ncols=2, figsize=(18, 18))\n",
    "    axes = axes.flatten()  # Flatten the 2D array of axes for easy iteration\n",
    "    \n",
    "    # Determine the global min and max for the color scale within the same metric\n",
    "    metric_data = globals()[f\"{metric}_data\"]\n",
    "    vmin = metric_data['Median'].min()\n",
    "    vmax = metric_data['Median'].max()\n",
    "    \n",
    "    for i, infection_rate in enumerate(infection_rates):\n",
    "        if i < len(axes):\n",
    "            total_data = globals()[f\"{metric}_data\"]\n",
    "            data = total_data.loc[total_data['infection_rate'] == infection_rate].copy()\n",
    "            plot_heatmap(data, infections_rate=infection_rate, ax=axes[i], vmin=vmin, vmax=vmax)\n",
    "    \n",
    "    # Remove any unused subplots\n",
    "    for j in range(i + 1, len(axes)):\n",
    "        fig.delaxes(axes[j])\n",
    "    \n",
    "    # Add a single color bar at the bottom\n",
    "    cbar_ax = fig.add_axes([0.3, 0.05, 0.4, 0.02])\n",
    "    fig.colorbar(plt.cm.ScalarMappable(cmap=\"YlGnBu\", norm=plt.Normalize(vmin=vmin, vmax=vmax)), cax=cbar_ax, orientation='horizontal')\n",
    "    cbar_ax.set_xlabel('Median Infections')\n",
    "    \n",
    "    # Suppress specific warning\n",
    "    warnings.filterwarnings(\"ignore\", category=UserWarning, message=\".*tight_layout.*\")\n",
    "\n",
    "    plt.tight_layout(rect=[0, 0.1, 1, 0.95])\n",
    "    \n",
    "    # Save the figure\n",
    "    fig.savefig(os.path.join(analysis_results_dir, f\"{metric}_heatmaps.png\"))\n",
    "    plt.close(fig)"
   ]
  },
  {
   "cell_type": "code",
   "execution_count": null,
   "metadata": {},
   "outputs": [],
   "source": []
  }
 ],
 "metadata": {
  "kernelspec": {
   "display_name": "PY10",
   "language": "python",
   "name": "python3"
  },
  "language_info": {
   "codemirror_mode": {
    "name": "ipython",
    "version": 3
   },
   "file_extension": ".py",
   "mimetype": "text/x-python",
   "name": "python",
   "nbconvert_exporter": "python",
   "pygments_lexer": "ipython3",
   "version": "3.10.13"
  }
 },
 "nbformat": 4,
 "nbformat_minor": 2
}
