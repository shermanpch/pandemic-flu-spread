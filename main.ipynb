{
 "cells": [
  {
   "cell_type": "markdown",
   "metadata": {},
   "source": [
    "## Problem 15: \"Advanced\" Pandemic Flu Spread\n",
    "\n",
    "Project 3 considered a (trivial) discrete-event simulation of pandemic flu spread in a classroom. (Project 4 concerned a continuous-time, deterministic simulation that doesn’t apply here.) If you feel a little more adventuresome, I’d like you to think about a bigger-and-better simulation involving a larger population. Here’s a potential scenario (there are many other interesting ones — feel free to be imaginative):\n",
    "\n",
    "- Some infectious people enter a population of susceptibles, and some of the susceptibles become infected.\n",
    "- There is a short period of a couple of days before a newly-infected person in turn becomes infectious.\n",
    "- When a person recovers (or dies), the person is not again susceptible.\n",
    "- Infectiousness or death can be mitigated by masking, social distancing, etc.\n",
    "- Infectiousness or death can be mitigated by vaccination. Vaccines can be delivered in one or two doses. But there could be supply chain issues.\n",
    "- Even if a vaccine requires two doses, the vaccine nevertheless provides partial immunization after even only one dose. Might you immediately give everyone only one dose instead of two, and hope that the supply chain catches up so that you can “eventually” give everyone two doses?\n",
    "\n",
    "To determine whether a particular strategy is any good, you probably ought to consider the number of people who eventually get infected (or die), the length of the epidemic, etc.\n"
   ]
  },
  {
   "cell_type": "code",
   "execution_count": 1,
   "metadata": {},
   "outputs": [],
   "source": [
    "%load_ext autoreload\n",
    "%autoreload 2"
   ]
  },
  {
   "cell_type": "code",
   "execution_count": 2,
   "metadata": {},
   "outputs": [],
   "source": [
    "import itertools\n",
    "import os\n",
    "import shutil\n",
    "import sys\n",
    "\n",
    "import pandas as pd"
   ]
  },
  {
   "cell_type": "code",
   "execution_count": 3,
   "metadata": {},
   "outputs": [],
   "source": [
    "# Get the current working directory (where the notebook is located)\n",
    "current_dir = os.getcwd()\n",
    "\n",
    "# Construct the path to the src folder\n",
    "src_path = os.path.join(current_dir, \"src\")\n",
    "\n",
    "# Add src_path to sys.path\n",
    "sys.path.insert(0, src_path)"
   ]
  },
  {
   "cell_type": "code",
   "execution_count": 4,
   "metadata": {},
   "outputs": [
    {
     "name": "stdout",
     "output_type": "stream",
     "text": [
      "Directory 'c:\\Users\\louis\\OneDrive - Georgia Institute of Technology\\GATech\\2024 sem 4 fall\\ISYE 6644\\Project\\pandemic-flu-spread\\pandemic-flu-spread\\results' exists. Clearing contents...\n",
      "All contents of 'c:\\Users\\louis\\OneDrive - Georgia Institute of Technology\\GATech\\2024 sem 4 fall\\ISYE 6644\\Project\\pandemic-flu-spread\\pandemic-flu-spread\\results' have been cleared.\n"
     ]
    }
   ],
   "source": [
    "def clear_or_create_directory(directory_path):\n",
    "    \"\"\"\n",
    "    Clears all contents of the given directory if it exists.\n",
    "    If it doesn't exist, creates the directory.\n",
    "    \"\"\"\n",
    "    try:\n",
    "        if os.path.exists(directory_path):\n",
    "            print(f\"Directory '{directory_path}' exists. Clearing contents...\")\n",
    "            for filename in os.listdir(directory_path):\n",
    "                file_path = os.path.join(directory_path, filename)\n",
    "                # Handle files, symlinks, and directories appropriately\n",
    "                if os.path.isfile(file_path) or os.path.islink(file_path):\n",
    "                    os.unlink(file_path)  # Delete file or symlink\n",
    "                elif os.path.isdir(file_path):\n",
    "                    shutil.rmtree(file_path)  # Recursively delete directory\n",
    "            print(f\"All contents of '{directory_path}' have been cleared.\")\n",
    "        else:\n",
    "            print(f\"Directory '{directory_path}' does not exist. Creating it...\")\n",
    "            os.makedirs(directory_path)  # Create the directory\n",
    "            print(f\"Directory '{directory_path}' has been created.\")\n",
    "    except Exception as e:\n",
    "        print(f\"Error processing directory '{directory_path}': {e}\")\n",
    "\n",
    "\n",
    "results_dir = os.path.join(current_dir, \"results\")\n",
    "clear_or_create_directory(results_dir)"
   ]
  },
  {
   "cell_type": "code",
   "execution_count": 5,
   "metadata": {},
   "outputs": [],
   "source": [
    "from functools import partial\n",
    "\n",
    "from src.batch_run import SimulationBatchRunner\n",
    "from src.policies import (\n",
    "    mask_policy,\n",
    "    social_distancing_policy,\n",
    "    supply_constrained_vaccination_policy,\n",
    ")"
   ]
  },
  {
   "cell_type": "code",
   "execution_count": 6,
   "metadata": {},
   "outputs": [
    {
     "name": "stderr",
     "output_type": "stream",
     "text": [
      "INFO:src.batch_run:Starting batch run of simulations.\n"
     ]
    },
    {
     "name": "stdout",
     "output_type": "stream",
     "text": [
      "Running simulation with infection_rate=0.4, mask_start_day=5, social_distancing_start_day=5\n",
      "--------------------------------------------------\n",
      "Percent complete: 0.00%\n"
     ]
    },
    {
     "name": "stderr",
     "output_type": "stream",
     "text": [
      "INFO:src.batch_run:All simulations completed. Processing results...\n",
      "INFO:src.batch_run:Results aggregation completed.\n"
     ]
    },
    {
     "name": "stdout",
     "output_type": "stream",
     "text": [
      "Histogram saved to c:\\Users\\louis\\OneDrive - Georgia Institute of Technology\\GATech\\2024 sem 4 fall\\ISYE 6644\\Project\\pandemic-flu-spread\\pandemic-flu-spread\\results\\ir0.4_ms5_sds5_hist.png\n"
     ]
    },
    {
     "name": "stderr",
     "output_type": "stream",
     "text": [
      "INFO:src.batch_run:Starting batch run of simulations.\n"
     ]
    },
    {
     "name": "stdout",
     "output_type": "stream",
     "text": [
      "Plot saved to c:\\Users\\louis\\OneDrive - Georgia Institute of Technology\\GATech\\2024 sem 4 fall\\ISYE 6644\\Project\\pandemic-flu-spread\\pandemic-flu-spread\\results\\ir0.4_ms5_sds5_state.png\n",
      "Running simulation with infection_rate=0.4, mask_start_day=5, social_distancing_start_day=10\n",
      "--------------------------------------------------\n",
      "Percent complete: 2.22%\n"
     ]
    },
    {
     "name": "stderr",
     "output_type": "stream",
     "text": [
      "INFO:src.batch_run:All simulations completed. Processing results...\n",
      "INFO:src.batch_run:Results aggregation completed.\n"
     ]
    },
    {
     "name": "stdout",
     "output_type": "stream",
     "text": [
      "Histogram saved to c:\\Users\\louis\\OneDrive - Georgia Institute of Technology\\GATech\\2024 sem 4 fall\\ISYE 6644\\Project\\pandemic-flu-spread\\pandemic-flu-spread\\results\\ir0.4_ms5_sds10_hist.png\n"
     ]
    },
    {
     "name": "stderr",
     "output_type": "stream",
     "text": [
      "INFO:src.batch_run:Starting batch run of simulations.\n"
     ]
    },
    {
     "name": "stdout",
     "output_type": "stream",
     "text": [
      "Plot saved to c:\\Users\\louis\\OneDrive - Georgia Institute of Technology\\GATech\\2024 sem 4 fall\\ISYE 6644\\Project\\pandemic-flu-spread\\pandemic-flu-spread\\results\\ir0.4_ms5_sds10_state.png\n",
      "Running simulation with infection_rate=0.4, mask_start_day=5, social_distancing_start_day=15\n",
      "--------------------------------------------------\n",
      "Percent complete: 4.44%\n"
     ]
    },
    {
     "name": "stderr",
     "output_type": "stream",
     "text": [
      "INFO:src.batch_run:All simulations completed. Processing results...\n",
      "INFO:src.batch_run:Results aggregation completed.\n"
     ]
    },
    {
     "name": "stdout",
     "output_type": "stream",
     "text": [
      "Histogram saved to c:\\Users\\louis\\OneDrive - Georgia Institute of Technology\\GATech\\2024 sem 4 fall\\ISYE 6644\\Project\\pandemic-flu-spread\\pandemic-flu-spread\\results\\ir0.4_ms5_sds15_hist.png\n"
     ]
    },
    {
     "name": "stderr",
     "output_type": "stream",
     "text": [
      "INFO:src.batch_run:Starting batch run of simulations.\n"
     ]
    },
    {
     "name": "stdout",
     "output_type": "stream",
     "text": [
      "Plot saved to c:\\Users\\louis\\OneDrive - Georgia Institute of Technology\\GATech\\2024 sem 4 fall\\ISYE 6644\\Project\\pandemic-flu-spread\\pandemic-flu-spread\\results\\ir0.4_ms5_sds15_state.png\n",
      "Running simulation with infection_rate=0.4, mask_start_day=10, social_distancing_start_day=5\n",
      "--------------------------------------------------\n",
      "Percent complete: 6.67%\n"
     ]
    },
    {
     "name": "stderr",
     "output_type": "stream",
     "text": [
      "INFO:src.batch_run:All simulations completed. Processing results...\n",
      "INFO:src.batch_run:Results aggregation completed.\n"
     ]
    },
    {
     "name": "stdout",
     "output_type": "stream",
     "text": [
      "Histogram saved to c:\\Users\\louis\\OneDrive - Georgia Institute of Technology\\GATech\\2024 sem 4 fall\\ISYE 6644\\Project\\pandemic-flu-spread\\pandemic-flu-spread\\results\\ir0.4_ms10_sds5_hist.png\n"
     ]
    },
    {
     "name": "stderr",
     "output_type": "stream",
     "text": [
      "INFO:src.batch_run:Starting batch run of simulations.\n"
     ]
    },
    {
     "name": "stdout",
     "output_type": "stream",
     "text": [
      "Plot saved to c:\\Users\\louis\\OneDrive - Georgia Institute of Technology\\GATech\\2024 sem 4 fall\\ISYE 6644\\Project\\pandemic-flu-spread\\pandemic-flu-spread\\results\\ir0.4_ms10_sds5_state.png\n",
      "Running simulation with infection_rate=0.4, mask_start_day=10, social_distancing_start_day=10\n",
      "--------------------------------------------------\n",
      "Percent complete: 8.89%\n"
     ]
    },
    {
     "name": "stderr",
     "output_type": "stream",
     "text": [
      "INFO:src.batch_run:All simulations completed. Processing results...\n",
      "INFO:src.batch_run:Results aggregation completed.\n"
     ]
    },
    {
     "name": "stdout",
     "output_type": "stream",
     "text": [
      "Histogram saved to c:\\Users\\louis\\OneDrive - Georgia Institute of Technology\\GATech\\2024 sem 4 fall\\ISYE 6644\\Project\\pandemic-flu-spread\\pandemic-flu-spread\\results\\ir0.4_ms10_sds10_hist.png\n"
     ]
    },
    {
     "name": "stderr",
     "output_type": "stream",
     "text": [
      "INFO:src.batch_run:Starting batch run of simulations.\n"
     ]
    },
    {
     "name": "stdout",
     "output_type": "stream",
     "text": [
      "Plot saved to c:\\Users\\louis\\OneDrive - Georgia Institute of Technology\\GATech\\2024 sem 4 fall\\ISYE 6644\\Project\\pandemic-flu-spread\\pandemic-flu-spread\\results\\ir0.4_ms10_sds10_state.png\n",
      "Running simulation with infection_rate=0.4, mask_start_day=10, social_distancing_start_day=15\n",
      "--------------------------------------------------\n",
      "Percent complete: 11.11%\n"
     ]
    },
    {
     "name": "stderr",
     "output_type": "stream",
     "text": [
      "INFO:src.batch_run:All simulations completed. Processing results...\n",
      "INFO:src.batch_run:Results aggregation completed.\n"
     ]
    },
    {
     "name": "stdout",
     "output_type": "stream",
     "text": [
      "Histogram saved to c:\\Users\\louis\\OneDrive - Georgia Institute of Technology\\GATech\\2024 sem 4 fall\\ISYE 6644\\Project\\pandemic-flu-spread\\pandemic-flu-spread\\results\\ir0.4_ms10_sds15_hist.png\n"
     ]
    },
    {
     "name": "stderr",
     "output_type": "stream",
     "text": [
      "INFO:src.batch_run:Starting batch run of simulations.\n"
     ]
    },
    {
     "name": "stdout",
     "output_type": "stream",
     "text": [
      "Plot saved to c:\\Users\\louis\\OneDrive - Georgia Institute of Technology\\GATech\\2024 sem 4 fall\\ISYE 6644\\Project\\pandemic-flu-spread\\pandemic-flu-spread\\results\\ir0.4_ms10_sds15_state.png\n",
      "Running simulation with infection_rate=0.4, mask_start_day=15, social_distancing_start_day=5\n",
      "--------------------------------------------------\n",
      "Percent complete: 13.33%\n"
     ]
    },
    {
     "name": "stderr",
     "output_type": "stream",
     "text": [
      "INFO:src.batch_run:All simulations completed. Processing results...\n",
      "INFO:src.batch_run:Results aggregation completed.\n"
     ]
    },
    {
     "name": "stdout",
     "output_type": "stream",
     "text": [
      "Histogram saved to c:\\Users\\louis\\OneDrive - Georgia Institute of Technology\\GATech\\2024 sem 4 fall\\ISYE 6644\\Project\\pandemic-flu-spread\\pandemic-flu-spread\\results\\ir0.4_ms15_sds5_hist.png\n"
     ]
    },
    {
     "name": "stderr",
     "output_type": "stream",
     "text": [
      "INFO:src.batch_run:Starting batch run of simulations.\n"
     ]
    },
    {
     "name": "stdout",
     "output_type": "stream",
     "text": [
      "Plot saved to c:\\Users\\louis\\OneDrive - Georgia Institute of Technology\\GATech\\2024 sem 4 fall\\ISYE 6644\\Project\\pandemic-flu-spread\\pandemic-flu-spread\\results\\ir0.4_ms15_sds5_state.png\n",
      "Running simulation with infection_rate=0.4, mask_start_day=15, social_distancing_start_day=10\n",
      "--------------------------------------------------\n",
      "Percent complete: 15.56%\n"
     ]
    },
    {
     "name": "stderr",
     "output_type": "stream",
     "text": [
      "INFO:src.batch_run:All simulations completed. Processing results...\n",
      "INFO:src.batch_run:Results aggregation completed.\n"
     ]
    },
    {
     "name": "stdout",
     "output_type": "stream",
     "text": [
      "Histogram saved to c:\\Users\\louis\\OneDrive - Georgia Institute of Technology\\GATech\\2024 sem 4 fall\\ISYE 6644\\Project\\pandemic-flu-spread\\pandemic-flu-spread\\results\\ir0.4_ms15_sds10_hist.png\n"
     ]
    },
    {
     "name": "stderr",
     "output_type": "stream",
     "text": [
      "INFO:src.batch_run:Starting batch run of simulations.\n"
     ]
    },
    {
     "name": "stdout",
     "output_type": "stream",
     "text": [
      "Plot saved to c:\\Users\\louis\\OneDrive - Georgia Institute of Technology\\GATech\\2024 sem 4 fall\\ISYE 6644\\Project\\pandemic-flu-spread\\pandemic-flu-spread\\results\\ir0.4_ms15_sds10_state.png\n",
      "Running simulation with infection_rate=0.4, mask_start_day=15, social_distancing_start_day=15\n",
      "--------------------------------------------------\n",
      "Percent complete: 17.78%\n"
     ]
    },
    {
     "name": "stderr",
     "output_type": "stream",
     "text": [
      "INFO:src.batch_run:All simulations completed. Processing results...\n",
      "INFO:src.batch_run:Results aggregation completed.\n"
     ]
    },
    {
     "name": "stdout",
     "output_type": "stream",
     "text": [
      "Histogram saved to c:\\Users\\louis\\OneDrive - Georgia Institute of Technology\\GATech\\2024 sem 4 fall\\ISYE 6644\\Project\\pandemic-flu-spread\\pandemic-flu-spread\\results\\ir0.4_ms15_sds15_hist.png\n"
     ]
    },
    {
     "name": "stderr",
     "output_type": "stream",
     "text": [
      "INFO:src.batch_run:Starting batch run of simulations.\n"
     ]
    },
    {
     "name": "stdout",
     "output_type": "stream",
     "text": [
      "Plot saved to c:\\Users\\louis\\OneDrive - Georgia Institute of Technology\\GATech\\2024 sem 4 fall\\ISYE 6644\\Project\\pandemic-flu-spread\\pandemic-flu-spread\\results\\ir0.4_ms15_sds15_state.png\n",
      "Running simulation with infection_rate=0.5, mask_start_day=5, social_distancing_start_day=5\n",
      "--------------------------------------------------\n",
      "Percent complete: 20.00%\n"
     ]
    },
    {
     "name": "stderr",
     "output_type": "stream",
     "text": [
      "INFO:src.batch_run:All simulations completed. Processing results...\n",
      "INFO:src.batch_run:Results aggregation completed.\n"
     ]
    },
    {
     "name": "stdout",
     "output_type": "stream",
     "text": [
      "Histogram saved to c:\\Users\\louis\\OneDrive - Georgia Institute of Technology\\GATech\\2024 sem 4 fall\\ISYE 6644\\Project\\pandemic-flu-spread\\pandemic-flu-spread\\results\\ir0.5_ms5_sds5_hist.png\n"
     ]
    },
    {
     "name": "stderr",
     "output_type": "stream",
     "text": [
      "INFO:src.batch_run:Starting batch run of simulations.\n"
     ]
    },
    {
     "name": "stdout",
     "output_type": "stream",
     "text": [
      "Plot saved to c:\\Users\\louis\\OneDrive - Georgia Institute of Technology\\GATech\\2024 sem 4 fall\\ISYE 6644\\Project\\pandemic-flu-spread\\pandemic-flu-spread\\results\\ir0.5_ms5_sds5_state.png\n",
      "Running simulation with infection_rate=0.5, mask_start_day=5, social_distancing_start_day=10\n",
      "--------------------------------------------------\n",
      "Percent complete: 22.22%\n"
     ]
    },
    {
     "name": "stderr",
     "output_type": "stream",
     "text": [
      "INFO:src.batch_run:All simulations completed. Processing results...\n",
      "INFO:src.batch_run:Results aggregation completed.\n"
     ]
    },
    {
     "name": "stdout",
     "output_type": "stream",
     "text": [
      "Histogram saved to c:\\Users\\louis\\OneDrive - Georgia Institute of Technology\\GATech\\2024 sem 4 fall\\ISYE 6644\\Project\\pandemic-flu-spread\\pandemic-flu-spread\\results\\ir0.5_ms5_sds10_hist.png\n"
     ]
    },
    {
     "name": "stderr",
     "output_type": "stream",
     "text": [
      "INFO:src.batch_run:Starting batch run of simulations.\n"
     ]
    },
    {
     "name": "stdout",
     "output_type": "stream",
     "text": [
      "Plot saved to c:\\Users\\louis\\OneDrive - Georgia Institute of Technology\\GATech\\2024 sem 4 fall\\ISYE 6644\\Project\\pandemic-flu-spread\\pandemic-flu-spread\\results\\ir0.5_ms5_sds10_state.png\n",
      "Running simulation with infection_rate=0.5, mask_start_day=5, social_distancing_start_day=15\n",
      "--------------------------------------------------\n",
      "Percent complete: 24.44%\n"
     ]
    },
    {
     "name": "stderr",
     "output_type": "stream",
     "text": [
      "INFO:src.batch_run:All simulations completed. Processing results...\n",
      "INFO:src.batch_run:Results aggregation completed.\n"
     ]
    },
    {
     "name": "stdout",
     "output_type": "stream",
     "text": [
      "Histogram saved to c:\\Users\\louis\\OneDrive - Georgia Institute of Technology\\GATech\\2024 sem 4 fall\\ISYE 6644\\Project\\pandemic-flu-spread\\pandemic-flu-spread\\results\\ir0.5_ms5_sds15_hist.png\n"
     ]
    },
    {
     "name": "stderr",
     "output_type": "stream",
     "text": [
      "INFO:src.batch_run:Starting batch run of simulations.\n"
     ]
    },
    {
     "name": "stdout",
     "output_type": "stream",
     "text": [
      "Plot saved to c:\\Users\\louis\\OneDrive - Georgia Institute of Technology\\GATech\\2024 sem 4 fall\\ISYE 6644\\Project\\pandemic-flu-spread\\pandemic-flu-spread\\results\\ir0.5_ms5_sds15_state.png\n",
      "Running simulation with infection_rate=0.5, mask_start_day=10, social_distancing_start_day=5\n",
      "--------------------------------------------------\n",
      "Percent complete: 26.67%\n"
     ]
    },
    {
     "name": "stderr",
     "output_type": "stream",
     "text": [
      "INFO:src.batch_run:All simulations completed. Processing results...\n",
      "INFO:src.batch_run:Results aggregation completed.\n"
     ]
    },
    {
     "name": "stdout",
     "output_type": "stream",
     "text": [
      "Histogram saved to c:\\Users\\louis\\OneDrive - Georgia Institute of Technology\\GATech\\2024 sem 4 fall\\ISYE 6644\\Project\\pandemic-flu-spread\\pandemic-flu-spread\\results\\ir0.5_ms10_sds5_hist.png\n"
     ]
    },
    {
     "name": "stderr",
     "output_type": "stream",
     "text": [
      "INFO:src.batch_run:Starting batch run of simulations.\n"
     ]
    },
    {
     "name": "stdout",
     "output_type": "stream",
     "text": [
      "Plot saved to c:\\Users\\louis\\OneDrive - Georgia Institute of Technology\\GATech\\2024 sem 4 fall\\ISYE 6644\\Project\\pandemic-flu-spread\\pandemic-flu-spread\\results\\ir0.5_ms10_sds5_state.png\n",
      "Running simulation with infection_rate=0.5, mask_start_day=10, social_distancing_start_day=10\n",
      "--------------------------------------------------\n",
      "Percent complete: 28.89%\n"
     ]
    },
    {
     "name": "stderr",
     "output_type": "stream",
     "text": [
      "INFO:src.batch_run:All simulations completed. Processing results...\n",
      "INFO:src.batch_run:Results aggregation completed.\n"
     ]
    },
    {
     "name": "stdout",
     "output_type": "stream",
     "text": [
      "Histogram saved to c:\\Users\\louis\\OneDrive - Georgia Institute of Technology\\GATech\\2024 sem 4 fall\\ISYE 6644\\Project\\pandemic-flu-spread\\pandemic-flu-spread\\results\\ir0.5_ms10_sds10_hist.png\n"
     ]
    },
    {
     "name": "stderr",
     "output_type": "stream",
     "text": [
      "INFO:src.batch_run:Starting batch run of simulations.\n"
     ]
    },
    {
     "name": "stdout",
     "output_type": "stream",
     "text": [
      "Plot saved to c:\\Users\\louis\\OneDrive - Georgia Institute of Technology\\GATech\\2024 sem 4 fall\\ISYE 6644\\Project\\pandemic-flu-spread\\pandemic-flu-spread\\results\\ir0.5_ms10_sds10_state.png\n",
      "Running simulation with infection_rate=0.5, mask_start_day=10, social_distancing_start_day=15\n",
      "--------------------------------------------------\n",
      "Percent complete: 31.11%\n"
     ]
    },
    {
     "name": "stderr",
     "output_type": "stream",
     "text": [
      "INFO:src.batch_run:All simulations completed. Processing results...\n",
      "INFO:src.batch_run:Results aggregation completed.\n"
     ]
    },
    {
     "name": "stdout",
     "output_type": "stream",
     "text": [
      "Histogram saved to c:\\Users\\louis\\OneDrive - Georgia Institute of Technology\\GATech\\2024 sem 4 fall\\ISYE 6644\\Project\\pandemic-flu-spread\\pandemic-flu-spread\\results\\ir0.5_ms10_sds15_hist.png\n"
     ]
    },
    {
     "name": "stderr",
     "output_type": "stream",
     "text": [
      "INFO:src.batch_run:Starting batch run of simulations.\n"
     ]
    },
    {
     "name": "stdout",
     "output_type": "stream",
     "text": [
      "Plot saved to c:\\Users\\louis\\OneDrive - Georgia Institute of Technology\\GATech\\2024 sem 4 fall\\ISYE 6644\\Project\\pandemic-flu-spread\\pandemic-flu-spread\\results\\ir0.5_ms10_sds15_state.png\n",
      "Running simulation with infection_rate=0.5, mask_start_day=15, social_distancing_start_day=5\n",
      "--------------------------------------------------\n",
      "Percent complete: 33.33%\n"
     ]
    },
    {
     "name": "stderr",
     "output_type": "stream",
     "text": [
      "INFO:src.batch_run:All simulations completed. Processing results...\n",
      "INFO:src.batch_run:Results aggregation completed.\n"
     ]
    },
    {
     "name": "stdout",
     "output_type": "stream",
     "text": [
      "Histogram saved to c:\\Users\\louis\\OneDrive - Georgia Institute of Technology\\GATech\\2024 sem 4 fall\\ISYE 6644\\Project\\pandemic-flu-spread\\pandemic-flu-spread\\results\\ir0.5_ms15_sds5_hist.png\n"
     ]
    },
    {
     "name": "stderr",
     "output_type": "stream",
     "text": [
      "INFO:src.batch_run:Starting batch run of simulations.\n"
     ]
    },
    {
     "name": "stdout",
     "output_type": "stream",
     "text": [
      "Plot saved to c:\\Users\\louis\\OneDrive - Georgia Institute of Technology\\GATech\\2024 sem 4 fall\\ISYE 6644\\Project\\pandemic-flu-spread\\pandemic-flu-spread\\results\\ir0.5_ms15_sds5_state.png\n",
      "Running simulation with infection_rate=0.5, mask_start_day=15, social_distancing_start_day=10\n",
      "--------------------------------------------------\n",
      "Percent complete: 35.56%\n"
     ]
    },
    {
     "name": "stderr",
     "output_type": "stream",
     "text": [
      "INFO:src.batch_run:All simulations completed. Processing results...\n",
      "INFO:src.batch_run:Results aggregation completed.\n"
     ]
    },
    {
     "name": "stdout",
     "output_type": "stream",
     "text": [
      "Histogram saved to c:\\Users\\louis\\OneDrive - Georgia Institute of Technology\\GATech\\2024 sem 4 fall\\ISYE 6644\\Project\\pandemic-flu-spread\\pandemic-flu-spread\\results\\ir0.5_ms15_sds10_hist.png\n"
     ]
    },
    {
     "name": "stderr",
     "output_type": "stream",
     "text": [
      "INFO:src.batch_run:Starting batch run of simulations.\n"
     ]
    },
    {
     "name": "stdout",
     "output_type": "stream",
     "text": [
      "Plot saved to c:\\Users\\louis\\OneDrive - Georgia Institute of Technology\\GATech\\2024 sem 4 fall\\ISYE 6644\\Project\\pandemic-flu-spread\\pandemic-flu-spread\\results\\ir0.5_ms15_sds10_state.png\n",
      "Running simulation with infection_rate=0.5, mask_start_day=15, social_distancing_start_day=15\n",
      "--------------------------------------------------\n",
      "Percent complete: 37.78%\n"
     ]
    },
    {
     "name": "stderr",
     "output_type": "stream",
     "text": [
      "INFO:src.batch_run:All simulations completed. Processing results...\n",
      "INFO:src.batch_run:Results aggregation completed.\n"
     ]
    },
    {
     "name": "stdout",
     "output_type": "stream",
     "text": [
      "Histogram saved to c:\\Users\\louis\\OneDrive - Georgia Institute of Technology\\GATech\\2024 sem 4 fall\\ISYE 6644\\Project\\pandemic-flu-spread\\pandemic-flu-spread\\results\\ir0.5_ms15_sds15_hist.png\n"
     ]
    },
    {
     "name": "stderr",
     "output_type": "stream",
     "text": [
      "INFO:src.batch_run:Starting batch run of simulations.\n"
     ]
    },
    {
     "name": "stdout",
     "output_type": "stream",
     "text": [
      "Plot saved to c:\\Users\\louis\\OneDrive - Georgia Institute of Technology\\GATech\\2024 sem 4 fall\\ISYE 6644\\Project\\pandemic-flu-spread\\pandemic-flu-spread\\results\\ir0.5_ms15_sds15_state.png\n",
      "Running simulation with infection_rate=0.6, mask_start_day=5, social_distancing_start_day=5\n",
      "--------------------------------------------------\n",
      "Percent complete: 40.00%\n"
     ]
    },
    {
     "name": "stderr",
     "output_type": "stream",
     "text": [
      "INFO:src.batch_run:All simulations completed. Processing results...\n",
      "INFO:src.batch_run:Results aggregation completed.\n"
     ]
    },
    {
     "name": "stdout",
     "output_type": "stream",
     "text": [
      "Histogram saved to c:\\Users\\louis\\OneDrive - Georgia Institute of Technology\\GATech\\2024 sem 4 fall\\ISYE 6644\\Project\\pandemic-flu-spread\\pandemic-flu-spread\\results\\ir0.6_ms5_sds5_hist.png\n"
     ]
    },
    {
     "name": "stderr",
     "output_type": "stream",
     "text": [
      "INFO:src.batch_run:Starting batch run of simulations.\n"
     ]
    },
    {
     "name": "stdout",
     "output_type": "stream",
     "text": [
      "Plot saved to c:\\Users\\louis\\OneDrive - Georgia Institute of Technology\\GATech\\2024 sem 4 fall\\ISYE 6644\\Project\\pandemic-flu-spread\\pandemic-flu-spread\\results\\ir0.6_ms5_sds5_state.png\n",
      "Running simulation with infection_rate=0.6, mask_start_day=5, social_distancing_start_day=10\n",
      "--------------------------------------------------\n",
      "Percent complete: 42.22%\n"
     ]
    },
    {
     "name": "stderr",
     "output_type": "stream",
     "text": [
      "INFO:src.batch_run:All simulations completed. Processing results...\n",
      "INFO:src.batch_run:Results aggregation completed.\n"
     ]
    },
    {
     "name": "stdout",
     "output_type": "stream",
     "text": [
      "Histogram saved to c:\\Users\\louis\\OneDrive - Georgia Institute of Technology\\GATech\\2024 sem 4 fall\\ISYE 6644\\Project\\pandemic-flu-spread\\pandemic-flu-spread\\results\\ir0.6_ms5_sds10_hist.png\n"
     ]
    },
    {
     "name": "stderr",
     "output_type": "stream",
     "text": [
      "INFO:src.batch_run:Starting batch run of simulations.\n"
     ]
    },
    {
     "name": "stdout",
     "output_type": "stream",
     "text": [
      "Plot saved to c:\\Users\\louis\\OneDrive - Georgia Institute of Technology\\GATech\\2024 sem 4 fall\\ISYE 6644\\Project\\pandemic-flu-spread\\pandemic-flu-spread\\results\\ir0.6_ms5_sds10_state.png\n",
      "Running simulation with infection_rate=0.6, mask_start_day=5, social_distancing_start_day=15\n",
      "--------------------------------------------------\n",
      "Percent complete: 44.44%\n"
     ]
    },
    {
     "name": "stderr",
     "output_type": "stream",
     "text": [
      "INFO:src.batch_run:All simulations completed. Processing results...\n",
      "c:\\Users\\louis\\anaconda3\\envs\\PY10\\lib\\site-packages\\numpy\\core\\_methods.py:206: RuntimeWarning: Degrees of freedom <= 0 for slice\n",
      "  ret = _var(a, axis=axis, dtype=dtype, out=out, ddof=ddof,\n",
      "c:\\Users\\louis\\anaconda3\\envs\\PY10\\lib\\site-packages\\numpy\\core\\_methods.py:198: RuntimeWarning: invalid value encountered in scalar divide\n",
      "  ret = ret.dtype.type(ret / rcount)\n",
      "INFO:src.batch_run:Results aggregation completed.\n"
     ]
    },
    {
     "name": "stdout",
     "output_type": "stream",
     "text": [
      "Histogram saved to c:\\Users\\louis\\OneDrive - Georgia Institute of Technology\\GATech\\2024 sem 4 fall\\ISYE 6644\\Project\\pandemic-flu-spread\\pandemic-flu-spread\\results\\ir0.6_ms5_sds15_hist.png\n"
     ]
    },
    {
     "name": "stderr",
     "output_type": "stream",
     "text": [
      "INFO:src.batch_run:Starting batch run of simulations.\n"
     ]
    },
    {
     "name": "stdout",
     "output_type": "stream",
     "text": [
      "Plot saved to c:\\Users\\louis\\OneDrive - Georgia Institute of Technology\\GATech\\2024 sem 4 fall\\ISYE 6644\\Project\\pandemic-flu-spread\\pandemic-flu-spread\\results\\ir0.6_ms5_sds15_state.png\n",
      "Running simulation with infection_rate=0.6, mask_start_day=10, social_distancing_start_day=5\n",
      "--------------------------------------------------\n",
      "Percent complete: 46.67%\n"
     ]
    },
    {
     "name": "stderr",
     "output_type": "stream",
     "text": [
      "INFO:src.batch_run:All simulations completed. Processing results...\n",
      "INFO:src.batch_run:Results aggregation completed.\n"
     ]
    },
    {
     "name": "stdout",
     "output_type": "stream",
     "text": [
      "Histogram saved to c:\\Users\\louis\\OneDrive - Georgia Institute of Technology\\GATech\\2024 sem 4 fall\\ISYE 6644\\Project\\pandemic-flu-spread\\pandemic-flu-spread\\results\\ir0.6_ms10_sds5_hist.png\n"
     ]
    },
    {
     "name": "stderr",
     "output_type": "stream",
     "text": [
      "INFO:src.batch_run:Starting batch run of simulations.\n"
     ]
    },
    {
     "name": "stdout",
     "output_type": "stream",
     "text": [
      "Plot saved to c:\\Users\\louis\\OneDrive - Georgia Institute of Technology\\GATech\\2024 sem 4 fall\\ISYE 6644\\Project\\pandemic-flu-spread\\pandemic-flu-spread\\results\\ir0.6_ms10_sds5_state.png\n",
      "Running simulation with infection_rate=0.6, mask_start_day=10, social_distancing_start_day=10\n",
      "--------------------------------------------------\n",
      "Percent complete: 48.89%\n"
     ]
    },
    {
     "name": "stderr",
     "output_type": "stream",
     "text": [
      "INFO:src.batch_run:All simulations completed. Processing results...\n",
      "INFO:src.batch_run:Results aggregation completed.\n"
     ]
    },
    {
     "name": "stdout",
     "output_type": "stream",
     "text": [
      "Histogram saved to c:\\Users\\louis\\OneDrive - Georgia Institute of Technology\\GATech\\2024 sem 4 fall\\ISYE 6644\\Project\\pandemic-flu-spread\\pandemic-flu-spread\\results\\ir0.6_ms10_sds10_hist.png\n"
     ]
    },
    {
     "name": "stderr",
     "output_type": "stream",
     "text": [
      "INFO:src.batch_run:Starting batch run of simulations.\n"
     ]
    },
    {
     "name": "stdout",
     "output_type": "stream",
     "text": [
      "Plot saved to c:\\Users\\louis\\OneDrive - Georgia Institute of Technology\\GATech\\2024 sem 4 fall\\ISYE 6644\\Project\\pandemic-flu-spread\\pandemic-flu-spread\\results\\ir0.6_ms10_sds10_state.png\n",
      "Running simulation with infection_rate=0.6, mask_start_day=10, social_distancing_start_day=15\n",
      "--------------------------------------------------\n",
      "Percent complete: 51.11%\n"
     ]
    },
    {
     "name": "stderr",
     "output_type": "stream",
     "text": [
      "INFO:src.batch_run:All simulations completed. Processing results...\n",
      "INFO:src.batch_run:Results aggregation completed.\n"
     ]
    },
    {
     "name": "stdout",
     "output_type": "stream",
     "text": [
      "Histogram saved to c:\\Users\\louis\\OneDrive - Georgia Institute of Technology\\GATech\\2024 sem 4 fall\\ISYE 6644\\Project\\pandemic-flu-spread\\pandemic-flu-spread\\results\\ir0.6_ms10_sds15_hist.png\n"
     ]
    },
    {
     "name": "stderr",
     "output_type": "stream",
     "text": [
      "INFO:src.batch_run:Starting batch run of simulations.\n"
     ]
    },
    {
     "name": "stdout",
     "output_type": "stream",
     "text": [
      "Plot saved to c:\\Users\\louis\\OneDrive - Georgia Institute of Technology\\GATech\\2024 sem 4 fall\\ISYE 6644\\Project\\pandemic-flu-spread\\pandemic-flu-spread\\results\\ir0.6_ms10_sds15_state.png\n",
      "Running simulation with infection_rate=0.6, mask_start_day=15, social_distancing_start_day=5\n",
      "--------------------------------------------------\n",
      "Percent complete: 53.33%\n"
     ]
    },
    {
     "name": "stderr",
     "output_type": "stream",
     "text": [
      "INFO:src.batch_run:All simulations completed. Processing results...\n",
      "INFO:src.batch_run:Results aggregation completed.\n"
     ]
    },
    {
     "name": "stdout",
     "output_type": "stream",
     "text": [
      "Histogram saved to c:\\Users\\louis\\OneDrive - Georgia Institute of Technology\\GATech\\2024 sem 4 fall\\ISYE 6644\\Project\\pandemic-flu-spread\\pandemic-flu-spread\\results\\ir0.6_ms15_sds5_hist.png\n"
     ]
    },
    {
     "name": "stderr",
     "output_type": "stream",
     "text": [
      "INFO:src.batch_run:Starting batch run of simulations.\n"
     ]
    },
    {
     "name": "stdout",
     "output_type": "stream",
     "text": [
      "Plot saved to c:\\Users\\louis\\OneDrive - Georgia Institute of Technology\\GATech\\2024 sem 4 fall\\ISYE 6644\\Project\\pandemic-flu-spread\\pandemic-flu-spread\\results\\ir0.6_ms15_sds5_state.png\n",
      "Running simulation with infection_rate=0.6, mask_start_day=15, social_distancing_start_day=10\n",
      "--------------------------------------------------\n",
      "Percent complete: 55.56%\n"
     ]
    },
    {
     "name": "stderr",
     "output_type": "stream",
     "text": [
      "INFO:src.batch_run:All simulations completed. Processing results...\n",
      "INFO:src.batch_run:Results aggregation completed.\n"
     ]
    },
    {
     "name": "stdout",
     "output_type": "stream",
     "text": [
      "Histogram saved to c:\\Users\\louis\\OneDrive - Georgia Institute of Technology\\GATech\\2024 sem 4 fall\\ISYE 6644\\Project\\pandemic-flu-spread\\pandemic-flu-spread\\results\\ir0.6_ms15_sds10_hist.png\n"
     ]
    },
    {
     "name": "stderr",
     "output_type": "stream",
     "text": [
      "INFO:src.batch_run:Starting batch run of simulations.\n"
     ]
    },
    {
     "name": "stdout",
     "output_type": "stream",
     "text": [
      "Plot saved to c:\\Users\\louis\\OneDrive - Georgia Institute of Technology\\GATech\\2024 sem 4 fall\\ISYE 6644\\Project\\pandemic-flu-spread\\pandemic-flu-spread\\results\\ir0.6_ms15_sds10_state.png\n",
      "Running simulation with infection_rate=0.6, mask_start_day=15, social_distancing_start_day=15\n",
      "--------------------------------------------------\n",
      "Percent complete: 57.78%\n"
     ]
    },
    {
     "name": "stderr",
     "output_type": "stream",
     "text": [
      "INFO:src.batch_run:All simulations completed. Processing results...\n",
      "INFO:src.batch_run:Results aggregation completed.\n"
     ]
    },
    {
     "name": "stdout",
     "output_type": "stream",
     "text": [
      "Histogram saved to c:\\Users\\louis\\OneDrive - Georgia Institute of Technology\\GATech\\2024 sem 4 fall\\ISYE 6644\\Project\\pandemic-flu-spread\\pandemic-flu-spread\\results\\ir0.6_ms15_sds15_hist.png\n"
     ]
    },
    {
     "name": "stderr",
     "output_type": "stream",
     "text": [
      "INFO:src.batch_run:Starting batch run of simulations.\n"
     ]
    },
    {
     "name": "stdout",
     "output_type": "stream",
     "text": [
      "Plot saved to c:\\Users\\louis\\OneDrive - Georgia Institute of Technology\\GATech\\2024 sem 4 fall\\ISYE 6644\\Project\\pandemic-flu-spread\\pandemic-flu-spread\\results\\ir0.6_ms15_sds15_state.png\n",
      "Running simulation with infection_rate=0.7, mask_start_day=5, social_distancing_start_day=5\n",
      "--------------------------------------------------\n",
      "Percent complete: 60.00%\n"
     ]
    },
    {
     "name": "stderr",
     "output_type": "stream",
     "text": [
      "INFO:src.batch_run:All simulations completed. Processing results...\n",
      "INFO:src.batch_run:Results aggregation completed.\n"
     ]
    },
    {
     "name": "stdout",
     "output_type": "stream",
     "text": [
      "Histogram saved to c:\\Users\\louis\\OneDrive - Georgia Institute of Technology\\GATech\\2024 sem 4 fall\\ISYE 6644\\Project\\pandemic-flu-spread\\pandemic-flu-spread\\results\\ir0.7_ms5_sds5_hist.png\n"
     ]
    },
    {
     "name": "stderr",
     "output_type": "stream",
     "text": [
      "INFO:src.batch_run:Starting batch run of simulations.\n"
     ]
    },
    {
     "name": "stdout",
     "output_type": "stream",
     "text": [
      "Plot saved to c:\\Users\\louis\\OneDrive - Georgia Institute of Technology\\GATech\\2024 sem 4 fall\\ISYE 6644\\Project\\pandemic-flu-spread\\pandemic-flu-spread\\results\\ir0.7_ms5_sds5_state.png\n",
      "Running simulation with infection_rate=0.7, mask_start_day=5, social_distancing_start_day=10\n",
      "--------------------------------------------------\n",
      "Percent complete: 62.22%\n"
     ]
    },
    {
     "name": "stderr",
     "output_type": "stream",
     "text": [
      "INFO:src.batch_run:All simulations completed. Processing results...\n",
      "INFO:src.batch_run:Results aggregation completed.\n"
     ]
    },
    {
     "name": "stdout",
     "output_type": "stream",
     "text": [
      "Histogram saved to c:\\Users\\louis\\OneDrive - Georgia Institute of Technology\\GATech\\2024 sem 4 fall\\ISYE 6644\\Project\\pandemic-flu-spread\\pandemic-flu-spread\\results\\ir0.7_ms5_sds10_hist.png\n"
     ]
    },
    {
     "name": "stderr",
     "output_type": "stream",
     "text": [
      "INFO:src.batch_run:Starting batch run of simulations.\n"
     ]
    },
    {
     "name": "stdout",
     "output_type": "stream",
     "text": [
      "Plot saved to c:\\Users\\louis\\OneDrive - Georgia Institute of Technology\\GATech\\2024 sem 4 fall\\ISYE 6644\\Project\\pandemic-flu-spread\\pandemic-flu-spread\\results\\ir0.7_ms5_sds10_state.png\n",
      "Running simulation with infection_rate=0.7, mask_start_day=5, social_distancing_start_day=15\n",
      "--------------------------------------------------\n",
      "Percent complete: 64.44%\n"
     ]
    },
    {
     "name": "stderr",
     "output_type": "stream",
     "text": [
      "INFO:src.batch_run:All simulations completed. Processing results...\n",
      "INFO:src.batch_run:Results aggregation completed.\n"
     ]
    },
    {
     "name": "stdout",
     "output_type": "stream",
     "text": [
      "Histogram saved to c:\\Users\\louis\\OneDrive - Georgia Institute of Technology\\GATech\\2024 sem 4 fall\\ISYE 6644\\Project\\pandemic-flu-spread\\pandemic-flu-spread\\results\\ir0.7_ms5_sds15_hist.png\n"
     ]
    },
    {
     "name": "stderr",
     "output_type": "stream",
     "text": [
      "INFO:src.batch_run:Starting batch run of simulations.\n"
     ]
    },
    {
     "name": "stdout",
     "output_type": "stream",
     "text": [
      "Plot saved to c:\\Users\\louis\\OneDrive - Georgia Institute of Technology\\GATech\\2024 sem 4 fall\\ISYE 6644\\Project\\pandemic-flu-spread\\pandemic-flu-spread\\results\\ir0.7_ms5_sds15_state.png\n",
      "Running simulation with infection_rate=0.7, mask_start_day=10, social_distancing_start_day=5\n",
      "--------------------------------------------------\n",
      "Percent complete: 66.67%\n"
     ]
    },
    {
     "name": "stderr",
     "output_type": "stream",
     "text": [
      "INFO:src.batch_run:All simulations completed. Processing results...\n",
      "INFO:src.batch_run:Results aggregation completed.\n"
     ]
    },
    {
     "name": "stdout",
     "output_type": "stream",
     "text": [
      "Histogram saved to c:\\Users\\louis\\OneDrive - Georgia Institute of Technology\\GATech\\2024 sem 4 fall\\ISYE 6644\\Project\\pandemic-flu-spread\\pandemic-flu-spread\\results\\ir0.7_ms10_sds5_hist.png\n"
     ]
    },
    {
     "name": "stderr",
     "output_type": "stream",
     "text": [
      "INFO:src.batch_run:Starting batch run of simulations.\n"
     ]
    },
    {
     "name": "stdout",
     "output_type": "stream",
     "text": [
      "Plot saved to c:\\Users\\louis\\OneDrive - Georgia Institute of Technology\\GATech\\2024 sem 4 fall\\ISYE 6644\\Project\\pandemic-flu-spread\\pandemic-flu-spread\\results\\ir0.7_ms10_sds5_state.png\n",
      "Running simulation with infection_rate=0.7, mask_start_day=10, social_distancing_start_day=10\n",
      "--------------------------------------------------\n",
      "Percent complete: 68.89%\n"
     ]
    },
    {
     "name": "stderr",
     "output_type": "stream",
     "text": [
      "INFO:src.batch_run:All simulations completed. Processing results...\n",
      "INFO:src.batch_run:Results aggregation completed.\n"
     ]
    },
    {
     "name": "stdout",
     "output_type": "stream",
     "text": [
      "Histogram saved to c:\\Users\\louis\\OneDrive - Georgia Institute of Technology\\GATech\\2024 sem 4 fall\\ISYE 6644\\Project\\pandemic-flu-spread\\pandemic-flu-spread\\results\\ir0.7_ms10_sds10_hist.png\n"
     ]
    },
    {
     "name": "stderr",
     "output_type": "stream",
     "text": [
      "INFO:src.batch_run:Starting batch run of simulations.\n"
     ]
    },
    {
     "name": "stdout",
     "output_type": "stream",
     "text": [
      "Plot saved to c:\\Users\\louis\\OneDrive - Georgia Institute of Technology\\GATech\\2024 sem 4 fall\\ISYE 6644\\Project\\pandemic-flu-spread\\pandemic-flu-spread\\results\\ir0.7_ms10_sds10_state.png\n",
      "Running simulation with infection_rate=0.7, mask_start_day=10, social_distancing_start_day=15\n",
      "--------------------------------------------------\n",
      "Percent complete: 71.11%\n"
     ]
    },
    {
     "name": "stderr",
     "output_type": "stream",
     "text": [
      "INFO:src.batch_run:All simulations completed. Processing results...\n",
      "INFO:src.batch_run:Results aggregation completed.\n"
     ]
    },
    {
     "name": "stdout",
     "output_type": "stream",
     "text": [
      "Histogram saved to c:\\Users\\louis\\OneDrive - Georgia Institute of Technology\\GATech\\2024 sem 4 fall\\ISYE 6644\\Project\\pandemic-flu-spread\\pandemic-flu-spread\\results\\ir0.7_ms10_sds15_hist.png\n"
     ]
    },
    {
     "name": "stderr",
     "output_type": "stream",
     "text": [
      "INFO:src.batch_run:Starting batch run of simulations.\n"
     ]
    },
    {
     "name": "stdout",
     "output_type": "stream",
     "text": [
      "Plot saved to c:\\Users\\louis\\OneDrive - Georgia Institute of Technology\\GATech\\2024 sem 4 fall\\ISYE 6644\\Project\\pandemic-flu-spread\\pandemic-flu-spread\\results\\ir0.7_ms10_sds15_state.png\n",
      "Running simulation with infection_rate=0.7, mask_start_day=15, social_distancing_start_day=5\n",
      "--------------------------------------------------\n",
      "Percent complete: 73.33%\n"
     ]
    },
    {
     "name": "stderr",
     "output_type": "stream",
     "text": [
      "INFO:src.batch_run:All simulations completed. Processing results...\n",
      "INFO:src.batch_run:Results aggregation completed.\n"
     ]
    },
    {
     "name": "stdout",
     "output_type": "stream",
     "text": [
      "Histogram saved to c:\\Users\\louis\\OneDrive - Georgia Institute of Technology\\GATech\\2024 sem 4 fall\\ISYE 6644\\Project\\pandemic-flu-spread\\pandemic-flu-spread\\results\\ir0.7_ms15_sds5_hist.png\n"
     ]
    },
    {
     "name": "stderr",
     "output_type": "stream",
     "text": [
      "INFO:src.batch_run:Starting batch run of simulations.\n"
     ]
    },
    {
     "name": "stdout",
     "output_type": "stream",
     "text": [
      "Plot saved to c:\\Users\\louis\\OneDrive - Georgia Institute of Technology\\GATech\\2024 sem 4 fall\\ISYE 6644\\Project\\pandemic-flu-spread\\pandemic-flu-spread\\results\\ir0.7_ms15_sds5_state.png\n",
      "Running simulation with infection_rate=0.7, mask_start_day=15, social_distancing_start_day=10\n",
      "--------------------------------------------------\n",
      "Percent complete: 75.56%\n"
     ]
    },
    {
     "name": "stderr",
     "output_type": "stream",
     "text": [
      "INFO:src.batch_run:All simulations completed. Processing results...\n",
      "INFO:src.batch_run:Results aggregation completed.\n"
     ]
    },
    {
     "name": "stdout",
     "output_type": "stream",
     "text": [
      "Histogram saved to c:\\Users\\louis\\OneDrive - Georgia Institute of Technology\\GATech\\2024 sem 4 fall\\ISYE 6644\\Project\\pandemic-flu-spread\\pandemic-flu-spread\\results\\ir0.7_ms15_sds10_hist.png\n"
     ]
    },
    {
     "name": "stderr",
     "output_type": "stream",
     "text": [
      "INFO:src.batch_run:Starting batch run of simulations.\n"
     ]
    },
    {
     "name": "stdout",
     "output_type": "stream",
     "text": [
      "Plot saved to c:\\Users\\louis\\OneDrive - Georgia Institute of Technology\\GATech\\2024 sem 4 fall\\ISYE 6644\\Project\\pandemic-flu-spread\\pandemic-flu-spread\\results\\ir0.7_ms15_sds10_state.png\n",
      "Running simulation with infection_rate=0.7, mask_start_day=15, social_distancing_start_day=15\n",
      "--------------------------------------------------\n",
      "Percent complete: 77.78%\n"
     ]
    },
    {
     "name": "stderr",
     "output_type": "stream",
     "text": [
      "INFO:src.batch_run:All simulations completed. Processing results...\n",
      "INFO:src.batch_run:Results aggregation completed.\n"
     ]
    },
    {
     "name": "stdout",
     "output_type": "stream",
     "text": [
      "Histogram saved to c:\\Users\\louis\\OneDrive - Georgia Institute of Technology\\GATech\\2024 sem 4 fall\\ISYE 6644\\Project\\pandemic-flu-spread\\pandemic-flu-spread\\results\\ir0.7_ms15_sds15_hist.png\n"
     ]
    },
    {
     "name": "stderr",
     "output_type": "stream",
     "text": [
      "INFO:src.batch_run:Starting batch run of simulations.\n"
     ]
    },
    {
     "name": "stdout",
     "output_type": "stream",
     "text": [
      "Plot saved to c:\\Users\\louis\\OneDrive - Georgia Institute of Technology\\GATech\\2024 sem 4 fall\\ISYE 6644\\Project\\pandemic-flu-spread\\pandemic-flu-spread\\results\\ir0.7_ms15_sds15_state.png\n",
      "Running simulation with infection_rate=0.8, mask_start_day=5, social_distancing_start_day=5\n",
      "--------------------------------------------------\n",
      "Percent complete: 80.00%\n"
     ]
    },
    {
     "name": "stderr",
     "output_type": "stream",
     "text": [
      "INFO:src.batch_run:All simulations completed. Processing results...\n",
      "INFO:src.batch_run:Results aggregation completed.\n"
     ]
    },
    {
     "name": "stdout",
     "output_type": "stream",
     "text": [
      "Histogram saved to c:\\Users\\louis\\OneDrive - Georgia Institute of Technology\\GATech\\2024 sem 4 fall\\ISYE 6644\\Project\\pandemic-flu-spread\\pandemic-flu-spread\\results\\ir0.8_ms5_sds5_hist.png\n"
     ]
    },
    {
     "name": "stderr",
     "output_type": "stream",
     "text": [
      "INFO:src.batch_run:Starting batch run of simulations.\n"
     ]
    },
    {
     "name": "stdout",
     "output_type": "stream",
     "text": [
      "Plot saved to c:\\Users\\louis\\OneDrive - Georgia Institute of Technology\\GATech\\2024 sem 4 fall\\ISYE 6644\\Project\\pandemic-flu-spread\\pandemic-flu-spread\\results\\ir0.8_ms5_sds5_state.png\n",
      "Running simulation with infection_rate=0.8, mask_start_day=5, social_distancing_start_day=10\n",
      "--------------------------------------------------\n",
      "Percent complete: 82.22%\n"
     ]
    },
    {
     "name": "stderr",
     "output_type": "stream",
     "text": [
      "INFO:src.batch_run:All simulations completed. Processing results...\n",
      "INFO:src.batch_run:Results aggregation completed.\n"
     ]
    },
    {
     "name": "stdout",
     "output_type": "stream",
     "text": [
      "Histogram saved to c:\\Users\\louis\\OneDrive - Georgia Institute of Technology\\GATech\\2024 sem 4 fall\\ISYE 6644\\Project\\pandemic-flu-spread\\pandemic-flu-spread\\results\\ir0.8_ms5_sds10_hist.png\n"
     ]
    },
    {
     "name": "stderr",
     "output_type": "stream",
     "text": [
      "INFO:src.batch_run:Starting batch run of simulations.\n"
     ]
    },
    {
     "name": "stdout",
     "output_type": "stream",
     "text": [
      "Plot saved to c:\\Users\\louis\\OneDrive - Georgia Institute of Technology\\GATech\\2024 sem 4 fall\\ISYE 6644\\Project\\pandemic-flu-spread\\pandemic-flu-spread\\results\\ir0.8_ms5_sds10_state.png\n",
      "Running simulation with infection_rate=0.8, mask_start_day=5, social_distancing_start_day=15\n",
      "--------------------------------------------------\n",
      "Percent complete: 84.44%\n"
     ]
    },
    {
     "name": "stderr",
     "output_type": "stream",
     "text": [
      "INFO:src.batch_run:All simulations completed. Processing results...\n",
      "INFO:src.batch_run:Results aggregation completed.\n"
     ]
    },
    {
     "name": "stdout",
     "output_type": "stream",
     "text": [
      "Histogram saved to c:\\Users\\louis\\OneDrive - Georgia Institute of Technology\\GATech\\2024 sem 4 fall\\ISYE 6644\\Project\\pandemic-flu-spread\\pandemic-flu-spread\\results\\ir0.8_ms5_sds15_hist.png\n"
     ]
    },
    {
     "name": "stderr",
     "output_type": "stream",
     "text": [
      "INFO:src.batch_run:Starting batch run of simulations.\n"
     ]
    },
    {
     "name": "stdout",
     "output_type": "stream",
     "text": [
      "Plot saved to c:\\Users\\louis\\OneDrive - Georgia Institute of Technology\\GATech\\2024 sem 4 fall\\ISYE 6644\\Project\\pandemic-flu-spread\\pandemic-flu-spread\\results\\ir0.8_ms5_sds15_state.png\n",
      "Running simulation with infection_rate=0.8, mask_start_day=10, social_distancing_start_day=5\n",
      "--------------------------------------------------\n",
      "Percent complete: 86.67%\n"
     ]
    },
    {
     "name": "stderr",
     "output_type": "stream",
     "text": [
      "INFO:src.batch_run:All simulations completed. Processing results...\n",
      "INFO:src.batch_run:Results aggregation completed.\n"
     ]
    },
    {
     "name": "stdout",
     "output_type": "stream",
     "text": [
      "Histogram saved to c:\\Users\\louis\\OneDrive - Georgia Institute of Technology\\GATech\\2024 sem 4 fall\\ISYE 6644\\Project\\pandemic-flu-spread\\pandemic-flu-spread\\results\\ir0.8_ms10_sds5_hist.png\n"
     ]
    },
    {
     "name": "stderr",
     "output_type": "stream",
     "text": [
      "INFO:src.batch_run:Starting batch run of simulations.\n"
     ]
    },
    {
     "name": "stdout",
     "output_type": "stream",
     "text": [
      "Plot saved to c:\\Users\\louis\\OneDrive - Georgia Institute of Technology\\GATech\\2024 sem 4 fall\\ISYE 6644\\Project\\pandemic-flu-spread\\pandemic-flu-spread\\results\\ir0.8_ms10_sds5_state.png\n",
      "Running simulation with infection_rate=0.8, mask_start_day=10, social_distancing_start_day=10\n",
      "--------------------------------------------------\n",
      "Percent complete: 88.89%\n"
     ]
    },
    {
     "name": "stderr",
     "output_type": "stream",
     "text": [
      "INFO:src.batch_run:All simulations completed. Processing results...\n",
      "INFO:src.batch_run:Results aggregation completed.\n"
     ]
    },
    {
     "name": "stdout",
     "output_type": "stream",
     "text": [
      "Histogram saved to c:\\Users\\louis\\OneDrive - Georgia Institute of Technology\\GATech\\2024 sem 4 fall\\ISYE 6644\\Project\\pandemic-flu-spread\\pandemic-flu-spread\\results\\ir0.8_ms10_sds10_hist.png\n"
     ]
    },
    {
     "name": "stderr",
     "output_type": "stream",
     "text": [
      "INFO:src.batch_run:Starting batch run of simulations.\n"
     ]
    },
    {
     "name": "stdout",
     "output_type": "stream",
     "text": [
      "Plot saved to c:\\Users\\louis\\OneDrive - Georgia Institute of Technology\\GATech\\2024 sem 4 fall\\ISYE 6644\\Project\\pandemic-flu-spread\\pandemic-flu-spread\\results\\ir0.8_ms10_sds10_state.png\n",
      "Running simulation with infection_rate=0.8, mask_start_day=10, social_distancing_start_day=15\n",
      "--------------------------------------------------\n",
      "Percent complete: 91.11%\n"
     ]
    },
    {
     "name": "stderr",
     "output_type": "stream",
     "text": [
      "INFO:src.batch_run:All simulations completed. Processing results...\n",
      "INFO:src.batch_run:Results aggregation completed.\n"
     ]
    },
    {
     "name": "stdout",
     "output_type": "stream",
     "text": [
      "Histogram saved to c:\\Users\\louis\\OneDrive - Georgia Institute of Technology\\GATech\\2024 sem 4 fall\\ISYE 6644\\Project\\pandemic-flu-spread\\pandemic-flu-spread\\results\\ir0.8_ms10_sds15_hist.png\n"
     ]
    },
    {
     "name": "stderr",
     "output_type": "stream",
     "text": [
      "INFO:src.batch_run:Starting batch run of simulations.\n"
     ]
    },
    {
     "name": "stdout",
     "output_type": "stream",
     "text": [
      "Plot saved to c:\\Users\\louis\\OneDrive - Georgia Institute of Technology\\GATech\\2024 sem 4 fall\\ISYE 6644\\Project\\pandemic-flu-spread\\pandemic-flu-spread\\results\\ir0.8_ms10_sds15_state.png\n",
      "Running simulation with infection_rate=0.8, mask_start_day=15, social_distancing_start_day=5\n",
      "--------------------------------------------------\n",
      "Percent complete: 93.33%\n"
     ]
    },
    {
     "name": "stderr",
     "output_type": "stream",
     "text": [
      "INFO:src.batch_run:All simulations completed. Processing results...\n",
      "c:\\Users\\louis\\anaconda3\\envs\\PY10\\lib\\site-packages\\numpy\\core\\_methods.py:206: RuntimeWarning: Degrees of freedom <= 0 for slice\n",
      "  ret = _var(a, axis=axis, dtype=dtype, out=out, ddof=ddof,\n",
      "c:\\Users\\louis\\anaconda3\\envs\\PY10\\lib\\site-packages\\numpy\\core\\_methods.py:198: RuntimeWarning: invalid value encountered in scalar divide\n",
      "  ret = ret.dtype.type(ret / rcount)\n",
      "INFO:src.batch_run:Results aggregation completed.\n"
     ]
    },
    {
     "name": "stdout",
     "output_type": "stream",
     "text": [
      "Histogram saved to c:\\Users\\louis\\OneDrive - Georgia Institute of Technology\\GATech\\2024 sem 4 fall\\ISYE 6644\\Project\\pandemic-flu-spread\\pandemic-flu-spread\\results\\ir0.8_ms15_sds5_hist.png\n"
     ]
    },
    {
     "name": "stderr",
     "output_type": "stream",
     "text": [
      "INFO:src.batch_run:Starting batch run of simulations.\n"
     ]
    },
    {
     "name": "stdout",
     "output_type": "stream",
     "text": [
      "Plot saved to c:\\Users\\louis\\OneDrive - Georgia Institute of Technology\\GATech\\2024 sem 4 fall\\ISYE 6644\\Project\\pandemic-flu-spread\\pandemic-flu-spread\\results\\ir0.8_ms15_sds5_state.png\n",
      "Running simulation with infection_rate=0.8, mask_start_day=15, social_distancing_start_day=10\n",
      "--------------------------------------------------\n",
      "Percent complete: 95.56%\n"
     ]
    },
    {
     "name": "stderr",
     "output_type": "stream",
     "text": [
      "INFO:src.batch_run:All simulations completed. Processing results...\n",
      "INFO:src.batch_run:Results aggregation completed.\n"
     ]
    },
    {
     "name": "stdout",
     "output_type": "stream",
     "text": [
      "Histogram saved to c:\\Users\\louis\\OneDrive - Georgia Institute of Technology\\GATech\\2024 sem 4 fall\\ISYE 6644\\Project\\pandemic-flu-spread\\pandemic-flu-spread\\results\\ir0.8_ms15_sds10_hist.png\n"
     ]
    },
    {
     "name": "stderr",
     "output_type": "stream",
     "text": [
      "INFO:src.batch_run:Starting batch run of simulations.\n"
     ]
    },
    {
     "name": "stdout",
     "output_type": "stream",
     "text": [
      "Plot saved to c:\\Users\\louis\\OneDrive - Georgia Institute of Technology\\GATech\\2024 sem 4 fall\\ISYE 6644\\Project\\pandemic-flu-spread\\pandemic-flu-spread\\results\\ir0.8_ms15_sds10_state.png\n",
      "Running simulation with infection_rate=0.8, mask_start_day=15, social_distancing_start_day=15\n",
      "--------------------------------------------------\n",
      "Percent complete: 97.78%\n"
     ]
    },
    {
     "name": "stderr",
     "output_type": "stream",
     "text": [
      "INFO:src.batch_run:All simulations completed. Processing results...\n",
      "INFO:src.batch_run:Results aggregation completed.\n"
     ]
    },
    {
     "name": "stdout",
     "output_type": "stream",
     "text": [
      "Histogram saved to c:\\Users\\louis\\OneDrive - Georgia Institute of Technology\\GATech\\2024 sem 4 fall\\ISYE 6644\\Project\\pandemic-flu-spread\\pandemic-flu-spread\\results\\ir0.8_ms15_sds15_hist.png\n",
      "Plot saved to c:\\Users\\louis\\OneDrive - Georgia Institute of Technology\\GATech\\2024 sem 4 fall\\ISYE 6644\\Project\\pandemic-flu-spread\\pandemic-flu-spread\\results\\ir0.8_ms15_sds15_state.png\n"
     ]
    }
   ],
   "source": [
    "infection_rates = [0.4, 0.5, 0.6, 0.7, 0.8]\n",
    "mask_start_days = [5, 10, 15]\n",
    "social_distancing_start_days = [5, 10, 15]\n",
    "\n",
    "# Initialize empty DataFrames to store results\n",
    "histogram_results_df = pd.DataFrame()\n",
    "state_over_time_results_df = pd.DataFrame()\n",
    "loading_tracker = 0\n",
    "\n",
    "for infection_rate, mask_start_day, social_distancing_start_day in itertools.product(\n",
    "    infection_rates,\n",
    "    mask_start_days,\n",
    "    social_distancing_start_days,\n",
    "):\n",
    "    print(\n",
    "        f\"Running simulation with infection_rate={infection_rate}, mask_start_day={mask_start_day}, social_distancing_start_day={social_distancing_start_day}\"\n",
    "    )\n",
    "    print(\"--------------------------------------------------\")\n",
    "    percent_complete = (\n",
    "        loading_tracker\n",
    "        / (\n",
    "            len(infection_rates)\n",
    "            * len(mask_start_days)\n",
    "            * len(social_distancing_start_days)\n",
    "        )\n",
    "        * 100\n",
    "    )\n",
    "    print(f\"Percent complete: {percent_complete:.2f}%\")\n",
    "    loading_tracker += 1\n",
    "    # Define the policies\n",
    "    MASK_POLICY = partial(\n",
    "        mask_policy, start_day=mask_start_day, max_prob_mask=0.8, growth_rate=0.05\n",
    "    )\n",
    "    SOCIAL_DIST_POLICY = partial(\n",
    "        social_distancing_policy, start_day=social_distancing_start_day\n",
    "    )\n",
    "\n",
    "    VAC_POLICY = partial(\n",
    "        supply_constrained_vaccination_policy,\n",
    "        initial_supply_rate=0.01,\n",
    "        max_supply_rate=0.15,\n",
    "        growth_type=\"logistic\",\n",
    "    )\n",
    "\n",
    "    # Define simulation parameters\n",
    "    simulation_params = {\n",
    "        \"population_size\": 10_000,  # Total number of individuals in the simulation.\n",
    "        \"initial_infected\": 0.01,  # Initial infected individuals in the simulation.\n",
    "        # If an integer, this specifies the absolute number of infected individuals at the start.\n",
    "        # If a float between 0 and 1, it represents the fraction of the population that is initially infected.\n",
    "        \"infection_rate\": infection_rate,  # Base probability of infection per contact (0 <= infection_rate <= 1).\n",
    "        # Higher values mean more likely transmission on each contact.\n",
    "        \"incubation_period\": 7,  # Number of days from infection until an individual becomes infectious.\n",
    "        # This delay represents the period during which the individual is infected but not yet able to spread the disease.\n",
    "        \"infectious_period\": 14,  # Number of days an individual remains infectious once they become infectious.\n",
    "        # After this period, the individual either recovers or dies.\n",
    "        \"base_contacts\": 10,  # Average number of daily contacts for individuals who are not social distancing.\n",
    "        # This is the number of interactions per day where infection could potentially spread.\n",
    "        \"social_distancing_rate\": 0.3,  # Factor to reduce the number of contacts for individuals practicing social distancing (0 <= social_distancing_rate <= 1).\n",
    "        # A rate of 0.3 means social distancing reduces contacts to 30% of the base contacts.\n",
    "        \"mortality_rate\": 0.01,  # Probability of dying from the disease for infected individuals (0 <= mortality_rate <= 1).\n",
    "        # A rate of 0.01 implies a 1% chance of death for each infected individual.\n",
    "        \"mask_effectiveness\": 0.5,  # Effectiveness of masks in reducing infection probability.\n",
    "        # If an individual wears a mask, the infection rate for that contact is multiplied by this factor.\n",
    "        # For example, a value of 0.5 means masks reduce the infection risk by 50%.\n",
    "        \"partial_vaccine_effectiveness\": 0.5,  # Effectiveness of a single vaccine dose in reducing infection probability.\n",
    "        # The infection rate is multiplied by this factor for individuals with partial vaccination.\n",
    "        # For example, 0.5 means partial vaccination reduces the infection risk by 50%.\n",
    "        \"full_vaccine_effectiveness\": 0,  # Effectiveness of full vaccination (two or more doses) in reducing infection probability.\n",
    "        # The infection rate is multiplied by this factor for fully vaccinated individuals.\n",
    "        # A value of 0 implies complete immunity, with no risk of infection after full vaccination.\n",
    "        \"mask_policy\": MASK_POLICY,  # Function that defines the mask-wearing policy for individuals.\n",
    "        # This function is invoked daily to decide whether each individual should wear a mask.\n",
    "        \"dist_policy\": SOCIAL_DIST_POLICY,  # Function that defines the social distancing policy for individuals.\n",
    "        # This function is invoked daily to determine each individual’s social distancing behavior.\n",
    "        \"vac_policy\": VAC_POLICY,  # Function that defines the vaccination policy for the simulation.\n",
    "        # This function is called daily to decide which individuals receive vaccine doses.\n",
    "        \"random_seed\": 42,  # Seed for the random number generator, ensuring reproducibility of the simulation.\n",
    "        # Setting this seed allows the simulation to produce the same results on repeated runs.\n",
    "    }\n",
    "\n",
    "    # Number of simulation runs\n",
    "    replications = 100\n",
    "\n",
    "    # Create the SimulationBatchRunner\n",
    "    batch_runner = SimulationBatchRunner(\n",
    "        replications=replications,\n",
    "        simulation_params=simulation_params,\n",
    "    )\n",
    "\n",
    "    # Run all simulations\n",
    "    batch_runner.run()\n",
    "\n",
    "    # Define the path to save the results\n",
    "    hist_save_path = os.path.join(\n",
    "        results_dir,\n",
    "        f\"ir{infection_rate}_ms{mask_start_day}_sds{social_distancing_start_day}_hist.png\",\n",
    "    )\n",
    "\n",
    "    state_save_path = os.path.join(\n",
    "        results_dir,\n",
    "        f\"ir{infection_rate}_ms{mask_start_day}_sds{social_distancing_start_day}_state.png\",\n",
    "    )\n",
    "\n",
    "    # Titles for the plots\n",
    "    title_hist = (\n",
    "        f\"Statistical Summary\\n\"\n",
    "        f\"Infection Rate: {infection_rate}\\n\"\n",
    "        f\"Mask Start Day: {mask_start_day}\\n\"\n",
    "        f\"Social Distancing Start Day: {social_distancing_start_day}\"\n",
    "    )\n",
    "\n",
    "    title_state = (\n",
    "        f\"State Over Time\\n\"\n",
    "        f\"Infection Rate: {infection_rate}\\n\"\n",
    "        f\"Mask Start Day: {mask_start_day}\\n\"\n",
    "        f\"Social Distancing Start Day: {social_distancing_start_day}\"\n",
    "    )\n",
    "\n",
    "    # Plot histograms with statistical summaries and save results\n",
    "    hist_df = batch_runner.plot_histograms(\n",
    "        save_path=hist_save_path,\n",
    "        print_graphs=False,\n",
    "        title=title_hist,\n",
    "    )\n",
    "    hist_df = hist_df.assign(\n",
    "        infection_rate=infection_rate,\n",
    "        mask_start_day=mask_start_day,\n",
    "        social_distancing_start_day=social_distancing_start_day,\n",
    "    )\n",
    "    histogram_results_df = pd.concat(\n",
    "        [histogram_results_df, hist_df],\n",
    "        ignore_index=True,\n",
    "    )\n",
    "\n",
    "    # Plot the expected counts over time and save results\n",
    "    state_df = batch_runner.plot_state_over_time(\n",
    "        save_path=state_save_path,\n",
    "        print_graphs=False,\n",
    "        title=title_state,\n",
    "    )\n",
    "    state_df = state_df.assign(\n",
    "        infection_rate=infection_rate,\n",
    "        mask_start_day=mask_start_day,\n",
    "        social_distancing_start_day=social_distancing_start_day,\n",
    "    )\n",
    "    state_over_time_results_df = pd.concat(\n",
    "        [state_over_time_results_df, state_df],\n",
    "        ignore_index=True,\n",
    "    )"
   ]
  },
  {
   "cell_type": "code",
   "execution_count": 7,
   "metadata": {},
   "outputs": [],
   "source": [
    "# Save the DataFrames to Excel files\n",
    "histogram_results_df.to_excel(\n",
    "    os.path.join(results_dir, \"histogram_results.xlsx\"),\n",
    "    index=False,\n",
    ")\n",
    "\n",
    "state_over_time_results_df.to_excel(\n",
    "    os.path.join(results_dir, \"state_over_time_results.xlsx\"),\n",
    "    index=False,\n",
    ")"
   ]
  },
  {
   "cell_type": "code",
   "execution_count": 8,
   "metadata": {},
   "outputs": [
    {
     "name": "stderr",
     "output_type": "stream",
     "text": [
      "INFO:src.batch_run:Starting batch run of simulations.\n",
      "INFO:src.batch_run:All simulations completed. Processing results...\n",
      "INFO:src.batch_run:Results aggregation completed.\n"
     ]
    },
    {
     "name": "stdout",
     "output_type": "stream",
     "text": [
      "Histogram saved to c:\\Users\\louis\\OneDrive - Georgia Institute of Technology\\GATech\\2024 sem 4 fall\\ISYE 6644\\Project\\pandemic-flu-spread\\pandemic-flu-spread\\results\\ir0.4_ms9999_sds9999_hist.png\n",
      "Plot saved to c:\\Users\\louis\\OneDrive - Georgia Institute of Technology\\GATech\\2024 sem 4 fall\\ISYE 6644\\Project\\pandemic-flu-spread\\pandemic-flu-spread\\results\\ir0.4_ms9999_sds9999_state.png\n"
     ]
    },
    {
     "data": {
      "text/html": [
       "<div>\n",
       "<style scoped>\n",
       "    .dataframe tbody tr th:only-of-type {\n",
       "        vertical-align: middle;\n",
       "    }\n",
       "\n",
       "    .dataframe tbody tr th {\n",
       "        vertical-align: top;\n",
       "    }\n",
       "\n",
       "    .dataframe thead th {\n",
       "        text-align: right;\n",
       "    }\n",
       "</style>\n",
       "<table border=\"1\" class=\"dataframe\">\n",
       "  <thead>\n",
       "    <tr style=\"text-align: right;\">\n",
       "      <th></th>\n",
       "      <th>State</th>\n",
       "      <th>Day</th>\n",
       "      <th>Mean</th>\n",
       "      <th>Std Dev</th>\n",
       "    </tr>\n",
       "  </thead>\n",
       "  <tbody>\n",
       "    <tr>\n",
       "      <th>0</th>\n",
       "      <td>susceptible</td>\n",
       "      <td>0</td>\n",
       "      <td>9900.0</td>\n",
       "      <td>0.0</td>\n",
       "    </tr>\n",
       "    <tr>\n",
       "      <th>1</th>\n",
       "      <td>susceptible</td>\n",
       "      <td>1</td>\n",
       "      <td>9900.0</td>\n",
       "      <td>0.0</td>\n",
       "    </tr>\n",
       "    <tr>\n",
       "      <th>2</th>\n",
       "      <td>susceptible</td>\n",
       "      <td>2</td>\n",
       "      <td>9900.0</td>\n",
       "      <td>0.0</td>\n",
       "    </tr>\n",
       "    <tr>\n",
       "      <th>3</th>\n",
       "      <td>susceptible</td>\n",
       "      <td>3</td>\n",
       "      <td>9900.0</td>\n",
       "      <td>0.0</td>\n",
       "    </tr>\n",
       "    <tr>\n",
       "      <th>4</th>\n",
       "      <td>susceptible</td>\n",
       "      <td>4</td>\n",
       "      <td>9900.0</td>\n",
       "      <td>0.0</td>\n",
       "    </tr>\n",
       "    <tr>\n",
       "      <th>...</th>\n",
       "      <td>...</td>\n",
       "      <td>...</td>\n",
       "      <td>...</td>\n",
       "      <td>...</td>\n",
       "    </tr>\n",
       "    <tr>\n",
       "      <th>489</th>\n",
       "      <td>vaccine_supply</td>\n",
       "      <td>33</td>\n",
       "      <td>0.0</td>\n",
       "      <td>0.0</td>\n",
       "    </tr>\n",
       "    <tr>\n",
       "      <th>490</th>\n",
       "      <td>vaccine_supply</td>\n",
       "      <td>34</td>\n",
       "      <td>0.0</td>\n",
       "      <td>0.0</td>\n",
       "    </tr>\n",
       "    <tr>\n",
       "      <th>491</th>\n",
       "      <td>vaccine_supply</td>\n",
       "      <td>35</td>\n",
       "      <td>0.0</td>\n",
       "      <td>0.0</td>\n",
       "    </tr>\n",
       "    <tr>\n",
       "      <th>492</th>\n",
       "      <td>vaccine_supply</td>\n",
       "      <td>36</td>\n",
       "      <td>0.0</td>\n",
       "      <td>0.0</td>\n",
       "    </tr>\n",
       "    <tr>\n",
       "      <th>493</th>\n",
       "      <td>vaccine_supply</td>\n",
       "      <td>37</td>\n",
       "      <td>0.0</td>\n",
       "      <td>0.0</td>\n",
       "    </tr>\n",
       "  </tbody>\n",
       "</table>\n",
       "<p>494 rows × 4 columns</p>\n",
       "</div>"
      ],
      "text/plain": [
       "              State  Day    Mean  Std Dev\n",
       "0       susceptible    0  9900.0      0.0\n",
       "1       susceptible    1  9900.0      0.0\n",
       "2       susceptible    2  9900.0      0.0\n",
       "3       susceptible    3  9900.0      0.0\n",
       "4       susceptible    4  9900.0      0.0\n",
       "..              ...  ...     ...      ...\n",
       "489  vaccine_supply   33     0.0      0.0\n",
       "490  vaccine_supply   34     0.0      0.0\n",
       "491  vaccine_supply   35     0.0      0.0\n",
       "492  vaccine_supply   36     0.0      0.0\n",
       "493  vaccine_supply   37     0.0      0.0\n",
       "\n",
       "[494 rows x 4 columns]"
      ]
     },
     "execution_count": 8,
     "metadata": {},
     "output_type": "execute_result"
    }
   ],
   "source": [
    "\n",
    "# Run simulation when mask_start_day and social_distancing_start_day are are not enforced (i.e., set to a large number 9999 days) and vaccination supply is 0\n",
    "# Define the policies\n",
    "MASK_POLICY = partial(\n",
    "    mask_policy, start_day=9999, max_prob_mask=0.8, growth_rate=0.05\n",
    ")\n",
    "SOCIAL_DIST_POLICY = partial(\n",
    "    social_distancing_policy, start_day=9999\n",
    ")\n",
    "\n",
    "VAC_POLICY = partial(\n",
    "    supply_constrained_vaccination_policy,\n",
    "    initial_supply_rate=0,\n",
    "    max_supply_rate=0,\n",
    "    growth_type=\"logistic\",\n",
    ")\n",
    "\n",
    "# Define simulation parameters\n",
    "simulation_params = {\n",
    "    \"population_size\": 10_000,  # Total number of individuals in the simulation.\n",
    "    \"initial_infected\": 0.01,  # Initial infected individuals in the simulation.\n",
    "    # If an integer, this specifies the absolute number of infected individuals at the start.\n",
    "    # If a float between 0 and 1, it represents the fraction of the population that is initially infected.\n",
    "    \"infection_rate\": 0.4,  # Base probability of infection per contact (0 <= infection_rate <= 1).\n",
    "    # Higher values mean more likely transmission on each contact.\n",
    "    \"incubation_period\": 7,  # Number of days from infection until an individual becomes infectious.\n",
    "    # This delay represents the period during which the individual is infected but not yet able to spread the disease.\n",
    "    \"infectious_period\": 14,  # Number of days an individual remains infectious once they become infectious.\n",
    "    # After this period, the individual either recovers or dies.\n",
    "    \"base_contacts\": 10,  # Average number of daily contacts for individuals who are not social distancing.\n",
    "    # This is the number of interactions per day where infection could potentially spread.\n",
    "    \"social_distancing_rate\": 0.3,  # Factor to reduce the number of contacts for individuals practicing social distancing (0 <= social_distancing_rate <= 1).\n",
    "    # A rate of 0.3 means social distancing reduces contacts to 30% of the base contacts.\n",
    "    \"mortality_rate\": 0.01,  # Probability of dying from the disease for infected individuals (0 <= mortality_rate <= 1).\n",
    "    # A rate of 0.01 implies a 1% chance of death for each infected individual.\n",
    "    \"mask_effectiveness\": 0.5,  # Effectiveness of masks in reducing infection probability.\n",
    "    # If an individual wears a mask, the infection rate for that contact is multiplied by this factor.\n",
    "    # For example, a value of 0.5 means masks reduce the infection risk by 50%.\n",
    "    \"partial_vaccine_effectiveness\": 0.5,  # Effectiveness of a single vaccine dose in reducing infection probability.\n",
    "    # The infection rate is multiplied by this factor for individuals with partial vaccination.\n",
    "    # For example, 0.5 means partial vaccination reduces the infection risk by 50%.\n",
    "    \"full_vaccine_effectiveness\": 0,  # Effectiveness of full vaccination (two or more doses) in reducing infection probability.\n",
    "    # The infection rate is multiplied by this factor for fully vaccinated individuals.\n",
    "    # A value of 0 implies complete immunity, with no risk of infection after full vaccination.\n",
    "    \"mask_policy\": MASK_POLICY,  # Function that defines the mask-wearing policy for individuals.\n",
    "    # This function is invoked daily to decide whether each individual should wear a mask.\n",
    "    \"dist_policy\": SOCIAL_DIST_POLICY,  # Function that defines the social distancing policy for individuals.\n",
    "    # This function is invoked daily to determine each individual’s social distancing behavior.\n",
    "    \"vac_policy\": VAC_POLICY,  # Function that defines the vaccination policy for the simulation.\n",
    "    # This function is called daily to decide which individuals receive vaccine doses.\n",
    "    \"random_seed\": 42,  # Seed for the random number generator, ensuring reproducibility of the simulation.\n",
    "    # Setting this seed allows the simulation to produce the same results on repeated runs.\n",
    "}\n",
    "\n",
    "# Number of simulation runs\n",
    "replications = 100\n",
    "\n",
    "# Create the SimulationBatchRunner\n",
    "batch_runner = SimulationBatchRunner(\n",
    "    replications=replications,\n",
    "    simulation_params=simulation_params,\n",
    ")\n",
    "\n",
    "# Run all simulations\n",
    "batch_runner.run()\n",
    "\n",
    "# Define the path to save the results\n",
    "hist_save_path = os.path.join(\n",
    "    results_dir,\n",
    "    f\"ir{0.4}_ms{9999}_sds{9999}_hist.png\",\n",
    ")\n",
    "\n",
    "state_save_path = os.path.join(\n",
    "    results_dir,\n",
    "    f\"ir{0.4}_ms{9999}_sds{9999}_state.png\",\n",
    ")\n",
    "\n",
    "# Titles for the plots\n",
    "title_hist = (\n",
    "    f\"Statistical Summary\\n\"\n",
    "    f\"Infection Rate: {0.4}\\n\"\n",
    "    f\"Mask Start Day: None\\n\"\n",
    "    f\"Social Distancing Start Day: None\"\n",
    ")\n",
    "\n",
    "title_state = (\n",
    "    f\"State Over Time\\n\"\n",
    "    f\"Infection Rate: {0.4}\\n\"\n",
    "    f\"Mask Start Day: None\\n\"\n",
    "    f\"Social Distancing Start Day: None\"\n",
    ")\n",
    "\n",
    "# Plot histograms with statistical summaries and save results\n",
    "batch_runner.plot_histograms(\n",
    "    save_path=hist_save_path,\n",
    "    print_graphs=False,\n",
    "    title=title_hist,\n",
    ")\n",
    "\n",
    "\n",
    "# Plot the expected counts over time and save results\n",
    "batch_runner.plot_state_over_time(\n",
    "    save_path=state_save_path,\n",
    "    print_graphs=False,\n",
    "    title=title_state,\n",
    ")\n"
   ]
  },
  {
   "cell_type": "code",
   "execution_count": null,
   "metadata": {},
   "outputs": [],
   "source": []
  }
 ],
 "metadata": {
  "kernelspec": {
   "display_name": "PY10",
   "language": "python",
   "name": "python3"
  },
  "language_info": {
   "codemirror_mode": {
    "name": "ipython",
    "version": 3
   },
   "file_extension": ".py",
   "mimetype": "text/x-python",
   "name": "python",
   "nbconvert_exporter": "python",
   "pygments_lexer": "ipython3",
   "version": "3.10.13"
  }
 },
 "nbformat": 4,
 "nbformat_minor": 2
}
